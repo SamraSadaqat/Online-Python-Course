{
 "cells": [
  {
   "cell_type": "code",
   "execution_count": 4,
   "metadata": {},
   "outputs": [
    {
     "name": "stdout",
     "output_type": "stream",
     "text": [
      "********MARKSHEET***********\n",
      "English Marks=  86\n",
      "Maths Marks=  94\n",
      "Islamiat Marks=  90\n",
      "Your Percentage=  90.0\n",
      "A+ Grade\n"
     ]
    }
   ],
   "source": [
    "print(\"********MARKSHEET***********\")\n",
    "english=86\n",
    "islamiat=90\n",
    "maths=94\n",
    "total_marks=300\n",
    "print(\"English Marks= \",english)\n",
    "print(\"Maths Marks= \",maths)\n",
    "print(\"Islamiat Marks= \",islamiat)\n",
    "percentage=(english+islamiat+maths)/300*100\n",
    "print(\"Your Percentage= \",percentage)\n",
    "if(percentage>=80 and percentage<=100):\n",
    "    print(\"A+ Grade\")\n",
    "elif(percentage>=70 and percentage<=80):\n",
    "    print(\"A Grade\")\n",
    "elif(percentage>=60 and percentage<70):\n",
    "    print(\"B Grade\")\n",
    "elif(percentage>=50 and percentage<60):\n",
    "    print(\"C Grade\")\n",
    "elif(percentage>=40 and percentage<50):\n",
    "    print(\"D Grade\")\n",
    "elif(percentage>=30 and percentage<40):\n",
    "    print(\"D Grade\")\n",
    "else:\n",
    "    print(\"Fail\")"
   ]
  },
  {
   "cell_type": "code",
   "execution_count": null,
   "metadata": {},
   "outputs": [],
   "source": []
  }
 ],
 "metadata": {
  "kernelspec": {
   "display_name": "Python 3",
   "language": "python",
   "name": "python3"
  },
  "language_info": {
   "codemirror_mode": {
    "name": "ipython",
    "version": 3
   },
   "file_extension": ".py",
   "mimetype": "text/x-python",
   "name": "python",
   "nbconvert_exporter": "python",
   "pygments_lexer": "ipython3",
   "version": "3.8.5"
  }
 },
 "nbformat": 4,
 "nbformat_minor": 4
}
