{
 "cells": [
  {
   "cell_type": "code",
   "execution_count": 2,
   "metadata": {},
   "outputs": [
    {
     "name": "stdout",
     "output_type": "stream",
     "text": [
      "      CALCULATOR      \n",
      "Select Operation.\n",
      "1.Add\n",
      "2.Subtract\n",
      "3.Multiply\n",
      "4.Divide\n",
      "Enter choice(1/2/3/4): 2\n",
      "Enter first number: 10\n",
      "Enter second number: 5\n",
      "10.0 - 5.0 = 5.0\n",
      "YOU WANT TO CALCULATE MORE? (yes/no): no\n"
     ]
    }
   ],
   "source": [
    "#Make a calculator using Python with addition , subtraction ,multiplication ,division and power.\n",
    "print(\"      CALCULATOR      \")\n",
    "def add(x, y):\n",
    "\n",
    "    \n",
    "    return x + y\n",
    "\n",
    "def subtract(x, y):\n",
    "    return x - y\n",
    "\n",
    "def multiply(x, y):\n",
    "    return x * y\n",
    "\n",
    "\n",
    "def divide(x, y):\n",
    "    return x / y\n",
    "\n",
    "\n",
    "print(\"Select Operation.\")\n",
    "print(\"1.Add\")\n",
    "print(\"2.Subtract\")\n",
    "print(\"3.Multiply\")\n",
    "print(\"4.Divide\")\n",
    "\n",
    "while True:\n",
    "    \n",
    "    choice = input(\"Enter choice(1/2/3/4): \")\n",
    "\n",
    "    \n",
    "    if choice in ('1', '2', '3', '4'):\n",
    "        num1 = float(input(\"Enter first number: \"))\n",
    "        num2 = float(input(\"Enter second number: \"))\n",
    "\n",
    "        if choice == '1':\n",
    "            print(num1, \"+\", num2, \"=\", add(num1, num2))\n",
    "\n",
    "        elif choice == '2':\n",
    "            print(num1, \"-\", num2, \"=\", subtract(num1, num2))\n",
    "\n",
    "        elif choice == '3':\n",
    "            print(num1, \"*\", num2, \"=\", multiply(num1, num2))\n",
    "\n",
    "        elif choice == '4':\n",
    "            print(num1, \"/\", num2, \"=\", divide(num1, num2))\n",
    "        \n",
    "       \n",
    "        next_calculation = input(\"YOU WANT TO CALCULATE MORE? (yes/no): \")\n",
    "        \n",
    "        if next_calculation == \"no\":\n",
    "          break\n",
    "    \n",
    "    else:\n",
    "        print(\"Invalid Input\")"
   ]
  },
  {
   "cell_type": "code",
   "execution_count": 4,
   "metadata": {},
   "outputs": [
    {
     "name": "stdout",
     "output_type": "stream",
     "text": [
      "4\n"
     ]
    }
   ],
   "source": [
    "#Write a program to check if there is any numeric value in list using for loop\n",
    "list = [\"abc\", \"def\", 4, \"ghi\"] \n",
    "for x in list: \n",
    "    if type(x) == int: \n",
    "        print(x)"
   ]
  },
  {
   "cell_type": "code",
   "execution_count": 5,
   "metadata": {},
   "outputs": [
    {
     "name": "stdout",
     "output_type": "stream",
     "text": [
      "{79: 10, 100: 20}\n",
      "{79: 10, 100: 20, 78: 300}\n"
     ]
    }
   ],
   "source": [
    "#Write a Python script to add a key to a dictionary.\n",
    "B = {79:10, 100:20}\n",
    "print(B)\n",
    "B.update({78:300})\n",
    "print(B)"
   ]
  },
  {
   "cell_type": "code",
   "execution_count": 6,
   "metadata": {},
   "outputs": [
    {
     "name": "stdout",
     "output_type": "stream",
     "text": [
      "2148\n"
     ]
    }
   ],
   "source": [
    " #Write a Python program to sum all the numeric items in a dictionary.\n",
    "my_dictionary = {'num1':2000,'num2':-32,'num3':180}\n",
    "print(sum(my_dictionary.values()))"
   ]
  },
  {
   "cell_type": "code",
   "execution_count": 7,
   "metadata": {},
   "outputs": [
    {
     "name": "stdout",
     "output_type": "stream",
     "text": [
      "2 3 4 5 "
     ]
    }
   ],
   "source": [
    "#Write a program to identify duplicate values from list\n",
    "\n",
    "l=[1,2,3,4,5,2,3,4,7,9,5]\n",
    "l1=[]\n",
    "for i in l:\n",
    "    if i not in l1:\n",
    "        l1.append(i)\n",
    "    else:\n",
    "        print(i,end=' ')"
   ]
  },
  {
   "cell_type": "code",
   "execution_count": 11,
   "metadata": {},
   "outputs": [
    {
     "name": "stdout",
     "output_type": "stream",
     "text": [
      "\n",
      "Original dictionary elements:\n",
      "{'syeda': 19, 'subata': 22, 'nasir': 21, 'pakistan': 20}\n",
      "False\n",
      "True\n"
     ]
    }
   ],
   "source": [
    "# Write a Python script to check if a given key already exists in a dictionary\n",
    "def key_in_dict(d, key):\n",
    "  return (key in d) \n",
    "students = {'syeda': 19,'subata': 22,'nasir': 21,'pakistan': 20}\n",
    "print(\"\\nOriginal dictionary elements:\")\n",
    "print(students)\n",
    "print(key_in_dict(students, 'Roxanne'))\n",
    "print(key_in_dict(students, 'subata'))"
   ]
  }
 ],
 "metadata": {
  "kernelspec": {
   "display_name": "Python 3",
   "language": "python",
   "name": "python3"
  },
  "language_info": {
   "codemirror_mode": {
    "name": "ipython",
    "version": 3
   },
   "file_extension": ".py",
   "mimetype": "text/x-python",
   "name": "python",
   "nbconvert_exporter": "python",
   "pygments_lexer": "ipython3",
   "version": "3.8.5"
  }
 },
 "nbformat": 4,
 "nbformat_minor": 4
}
